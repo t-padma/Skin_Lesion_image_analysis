{
 "cells": [
  {
   "cell_type": "markdown",
   "metadata": {},
   "source": [
    "Resource: https://blog.keras.io/building-autoencoders-in-keras.html"
   ]
  },
  {
   "cell_type": "code",
   "execution_count": 1,
   "metadata": {},
   "outputs": [],
   "source": [
    "import numpy as np\n",
    "import pandas as pd\n",
    "\n",
    "from keras import models\n",
    "from keras import layers\n",
    "from keras import optimizers\n",
    "from keras import Input, layers  # for 7.1.1\n",
    "from keras.models import Sequential, Model  # for 7.1.1\n",
    "\n",
    "import rpy2.robjects as robjects # used to import .Rdata into python "
   ]
  },
  {
   "cell_type": "markdown",
   "metadata": {},
   "source": [
    "Load the .Rdata into Jupyter environment using rpy2 module"
   ]
  },
  {
   "cell_type": "code",
   "execution_count": 2,
   "metadata": {},
   "outputs": [],
   "source": [
    "robjects.r['load']('features.RData')\n",
    "\n",
    "features = robjects.r['features']\n",
    "features = np.array(features)"
   ]
  },
  {
   "cell_type": "code",
   "execution_count": 3,
   "metadata": {},
   "outputs": [
    {
     "data": {
      "text/plain": [
       "numpy.ndarray"
      ]
     },
     "execution_count": 3,
     "metadata": {},
     "output_type": "execute_result"
    }
   ],
   "source": [
    "type(features)"
   ]
  },
  {
   "cell_type": "markdown",
   "metadata": {},
   "source": [
    "Each column corresponds to the feature vector of one image. We have 25,331 images. Feature vector length for one image s 5184. The last row corresponds to class label which we will eventually remove."
   ]
  },
  {
   "cell_type": "code",
   "execution_count": 4,
   "metadata": {},
   "outputs": [
    {
     "data": {
      "text/plain": [
       "(5185, 25331)"
      ]
     },
     "execution_count": 4,
     "metadata": {},
     "output_type": "execute_result"
    }
   ],
   "source": [
    "features.shape"
   ]
  },
  {
   "cell_type": "code",
   "execution_count": 5,
   "metadata": {},
   "outputs": [],
   "source": [
    "df = pd.DataFrame(data=features[0:,0:],\n",
    "           index=[i for i in range(features.shape[0])],\n",
    "           columns=['x'+str(i) for i in range(features.shape[1])])"
   ]
  },
  {
   "cell_type": "code",
   "execution_count": 6,
   "metadata": {},
   "outputs": [
    {
     "data": {
      "text/html": [
       "<div>\n",
       "<style scoped>\n",
       "    .dataframe tbody tr th:only-of-type {\n",
       "        vertical-align: middle;\n",
       "    }\n",
       "\n",
       "    .dataframe tbody tr th {\n",
       "        vertical-align: top;\n",
       "    }\n",
       "\n",
       "    .dataframe thead th {\n",
       "        text-align: right;\n",
       "    }\n",
       "</style>\n",
       "<table border=\"1\" class=\"dataframe\">\n",
       "  <thead>\n",
       "    <tr style=\"text-align: right;\">\n",
       "      <th></th>\n",
       "      <th>x0</th>\n",
       "      <th>x1</th>\n",
       "      <th>x2</th>\n",
       "      <th>x3</th>\n",
       "      <th>x4</th>\n",
       "      <th>x5</th>\n",
       "      <th>x6</th>\n",
       "      <th>x7</th>\n",
       "      <th>x8</th>\n",
       "      <th>x9</th>\n",
       "      <th>...</th>\n",
       "      <th>x25321</th>\n",
       "      <th>x25322</th>\n",
       "      <th>x25323</th>\n",
       "      <th>x25324</th>\n",
       "      <th>x25325</th>\n",
       "      <th>x25326</th>\n",
       "      <th>x25327</th>\n",
       "      <th>x25328</th>\n",
       "      <th>x25329</th>\n",
       "      <th>x25330</th>\n",
       "    </tr>\n",
       "  </thead>\n",
       "  <tbody>\n",
       "    <tr>\n",
       "      <th>5180</th>\n",
       "      <td>0.998080065359477</td>\n",
       "      <td>0.7294117647058823</td>\n",
       "      <td>0.7788500816993468</td>\n",
       "      <td>0.8726715686274505</td>\n",
       "      <td>0.00392156862745098</td>\n",
       "      <td>0.6113834422657944</td>\n",
       "      <td>0.7799995461147415</td>\n",
       "      <td>0.8745098039215686</td>\n",
       "      <td>0.7764705882352941</td>\n",
       "      <td>0.6857298474945532</td>\n",
       "      <td>...</td>\n",
       "      <td>0.0</td>\n",
       "      <td>0.2981118373275238</td>\n",
       "      <td>0.760602759622368</td>\n",
       "      <td>0.5568990559186638</td>\n",
       "      <td>0.03685548293391627</td>\n",
       "      <td>0.0</td>\n",
       "      <td>0.47106027596223676</td>\n",
       "      <td>0.9058823529411765</td>\n",
       "      <td>0.5568990559186638</td>\n",
       "      <td>0.7420479302832251</td>\n",
       "    </tr>\n",
       "    <tr>\n",
       "      <th>5181</th>\n",
       "      <td>0.998080065359477</td>\n",
       "      <td>0.7411764705882353</td>\n",
       "      <td>0.6614435820624556</td>\n",
       "      <td>0.8568218954248368</td>\n",
       "      <td>0.00392156862745098</td>\n",
       "      <td>0.5245154774872909</td>\n",
       "      <td>0.6370778867102391</td>\n",
       "      <td>0.8745098039215686</td>\n",
       "      <td>0.7176470588235294</td>\n",
       "      <td>0.6588235294117647</td>\n",
       "      <td>...</td>\n",
       "      <td>0.00519244734930969</td>\n",
       "      <td>0.2756354393609303</td>\n",
       "      <td>0.7722948438634712</td>\n",
       "      <td>0.6136891793754539</td>\n",
       "      <td>0.008097312999273841</td>\n",
       "      <td>0.00392156862745098</td>\n",
       "      <td>0.4307552650689913</td>\n",
       "      <td>0.8997095134350035</td>\n",
       "      <td>0.522839506172839</td>\n",
       "      <td>0.7801379811183732</td>\n",
       "    </tr>\n",
       "    <tr>\n",
       "      <th>5182</th>\n",
       "      <td>0.994240196078431</td>\n",
       "      <td>0.7375816993464054</td>\n",
       "      <td>0.5339903322440097</td>\n",
       "      <td>0.8783496732026147</td>\n",
       "      <td>0.00392156862745098</td>\n",
       "      <td>0.34007693355119845</td>\n",
       "      <td>0.48125340413943374</td>\n",
       "      <td>0.9098039215686274</td>\n",
       "      <td>0.6493055555555558</td>\n",
       "      <td>0.6123331971677559</td>\n",
       "      <td>...</td>\n",
       "      <td>0.00392156862745098</td>\n",
       "      <td>0.19150326797385592</td>\n",
       "      <td>0.7732026143790852</td>\n",
       "      <td>0.6132897603485847</td>\n",
       "      <td>0.0011982570806105173</td>\n",
       "      <td>0.00392156862745098</td>\n",
       "      <td>0.3849673202614382</td>\n",
       "      <td>0.8857298474945531</td>\n",
       "      <td>0.4891067538126358</td>\n",
       "      <td>0.7763616557734204</td>\n",
       "    </tr>\n",
       "    <tr>\n",
       "      <th>5183</th>\n",
       "      <td>1.0</td>\n",
       "      <td>0.7321350762527233</td>\n",
       "      <td>0.2936830519244741</td>\n",
       "      <td>0.8871459694989106</td>\n",
       "      <td>0.00392156862745098</td>\n",
       "      <td>0.12487858569353674</td>\n",
       "      <td>0.24138412309368185</td>\n",
       "      <td>0.9022875816993465</td>\n",
       "      <td>0.5390568264342778</td>\n",
       "      <td>0.5526563634713146</td>\n",
       "      <td>...</td>\n",
       "      <td>0.0</td>\n",
       "      <td>0.10951343500363087</td>\n",
       "      <td>0.6979302832244006</td>\n",
       "      <td>0.47149600580973094</td>\n",
       "      <td>0.0065722585330430525</td>\n",
       "      <td>0.0009077705156133639</td>\n",
       "      <td>0.30831517792302093</td>\n",
       "      <td>0.866485112563544</td>\n",
       "      <td>0.44796659404502515</td>\n",
       "      <td>0.7621278140885974</td>\n",
       "    </tr>\n",
       "    <tr>\n",
       "      <th>5184</th>\n",
       "      <td>NV</td>\n",
       "      <td>NV</td>\n",
       "      <td>MEL</td>\n",
       "      <td>NV</td>\n",
       "      <td>MEL</td>\n",
       "      <td>NV</td>\n",
       "      <td>NV</td>\n",
       "      <td>NV</td>\n",
       "      <td>NV</td>\n",
       "      <td>NV</td>\n",
       "      <td>...</td>\n",
       "      <td>NV</td>\n",
       "      <td>MEL</td>\n",
       "      <td>NV</td>\n",
       "      <td>NV</td>\n",
       "      <td>BCC</td>\n",
       "      <td>BCC</td>\n",
       "      <td>BKL</td>\n",
       "      <td>MEL</td>\n",
       "      <td>NV</td>\n",
       "      <td>BKL</td>\n",
       "    </tr>\n",
       "  </tbody>\n",
       "</table>\n",
       "<p>5 rows × 25331 columns</p>\n",
       "</div>"
      ],
      "text/plain": [
       "                     x0                  x1                  x2  \\\n",
       "5180  0.998080065359477  0.7294117647058823  0.7788500816993468   \n",
       "5181  0.998080065359477  0.7411764705882353  0.6614435820624556   \n",
       "5182  0.994240196078431  0.7375816993464054  0.5339903322440097   \n",
       "5183                1.0  0.7321350762527233  0.2936830519244741   \n",
       "5184                 NV                  NV                 MEL   \n",
       "\n",
       "                      x3                   x4                   x5  \\\n",
       "5180  0.8726715686274505  0.00392156862745098   0.6113834422657944   \n",
       "5181  0.8568218954248368  0.00392156862745098   0.5245154774872909   \n",
       "5182  0.8783496732026147  0.00392156862745098  0.34007693355119845   \n",
       "5183  0.8871459694989106  0.00392156862745098  0.12487858569353674   \n",
       "5184                  NV                  MEL                   NV   \n",
       "\n",
       "                       x6                  x7                  x8  \\\n",
       "5180   0.7799995461147415  0.8745098039215686  0.7764705882352941   \n",
       "5181   0.6370778867102391  0.8745098039215686  0.7176470588235294   \n",
       "5182  0.48125340413943374  0.9098039215686274  0.6493055555555558   \n",
       "5183  0.24138412309368185  0.9022875816993465  0.5390568264342778   \n",
       "5184                   NV                  NV                  NV   \n",
       "\n",
       "                      x9  ...               x25321               x25322  \\\n",
       "5180  0.6857298474945532  ...                  0.0   0.2981118373275238   \n",
       "5181  0.6588235294117647  ...  0.00519244734930969   0.2756354393609303   \n",
       "5182  0.6123331971677559  ...  0.00392156862745098  0.19150326797385592   \n",
       "5183  0.5526563634713146  ...                  0.0  0.10951343500363087   \n",
       "5184                  NV  ...                   NV                  MEL   \n",
       "\n",
       "                  x25323               x25324                 x25325  \\\n",
       "5180   0.760602759622368   0.5568990559186638    0.03685548293391627   \n",
       "5181  0.7722948438634712   0.6136891793754539   0.008097312999273841   \n",
       "5182  0.7732026143790852   0.6132897603485847  0.0011982570806105173   \n",
       "5183  0.6979302832244006  0.47149600580973094  0.0065722585330430525   \n",
       "5184                  NV                   NV                    BCC   \n",
       "\n",
       "                     x25326               x25327              x25328  \\\n",
       "5180                    0.0  0.47106027596223676  0.9058823529411765   \n",
       "5181    0.00392156862745098   0.4307552650689913  0.8997095134350035   \n",
       "5182    0.00392156862745098   0.3849673202614382  0.8857298474945531   \n",
       "5183  0.0009077705156133639  0.30831517792302093   0.866485112563544   \n",
       "5184                    BCC                  BKL                 MEL   \n",
       "\n",
       "                   x25329              x25330  \n",
       "5180   0.5568990559186638  0.7420479302832251  \n",
       "5181    0.522839506172839  0.7801379811183732  \n",
       "5182   0.4891067538126358  0.7763616557734204  \n",
       "5183  0.44796659404502515  0.7621278140885974  \n",
       "5184                   NV                 BKL  \n",
       "\n",
       "[5 rows x 25331 columns]"
      ]
     },
     "execution_count": 6,
     "metadata": {},
     "output_type": "execute_result"
    }
   ],
   "source": [
    "df.head()\n",
    "df.tail() # last row corresponds to class label (must remove)"
   ]
  },
  {
   "cell_type": "code",
   "execution_count": 7,
   "metadata": {},
   "outputs": [],
   "source": [
    "df = df.drop([5184])"
   ]
  },
  {
   "cell_type": "code",
   "execution_count": 8,
   "metadata": {},
   "outputs": [
    {
     "data": {
      "text/plain": [
       "(5184, 25331)"
      ]
     },
     "execution_count": 8,
     "metadata": {},
     "output_type": "execute_result"
    }
   ],
   "source": [
    "df.shape"
   ]
  },
  {
   "cell_type": "markdown",
   "metadata": {},
   "source": [
    "Transpose the dataframe df, so that each row corresponds to one image"
   ]
  },
  {
   "cell_type": "code",
   "execution_count": 16,
   "metadata": {},
   "outputs": [
    {
     "data": {
      "text/plain": [
       "(25331, 5184)"
      ]
     },
     "execution_count": 16,
     "metadata": {},
     "output_type": "execute_result"
    }
   ],
   "source": [
    "df = df.transpose()\n",
    "df.shape"
   ]
  },
  {
   "cell_type": "code",
   "execution_count": 45,
   "metadata": {},
   "outputs": [
    {
     "name": "stdout",
     "output_type": "stream",
     "text": [
      "(3, 48, 36)\n",
      "(48, 36, 3)\n",
      "object\n"
     ]
    }
   ],
   "source": [
    "img = np.array(df.iloc[0,:]) # 0-th row\n",
    "img = np.reshape(img, (3, 48, 36))\n",
    "\n",
    "print(img.shape)\n",
    "img = img.transpose((1,2,0))\n",
    "print(img.shape)\n",
    "print(img.dtype) # character type\n",
    "\n",
    "\n",
    "img = img.astype(float) # float"
   ]
  },
  {
   "cell_type": "code",
   "execution_count": 38,
   "metadata": {},
   "outputs": [],
   "source": [
    "import cmath\n",
    "import matplotlib.pyplot as plt\n",
    "\n",
    "\n",
    "#plt.imshow(img)"
   ]
  },
  {
   "cell_type": "markdown",
   "metadata": {},
   "source": [
    "Fresh : new"
   ]
  },
  {
   "cell_type": "code",
   "execution_count": 21,
   "metadata": {},
   "outputs": [
    {
     "data": {
      "text/plain": [
       "(450, 600, 3)"
      ]
     },
     "execution_count": 21,
     "metadata": {},
     "output_type": "execute_result"
    }
   ],
   "source": [
    "from skimage.io import imread_collection\n",
    "Data_dir = \"Data/*/*.jpg\"\n",
    "imdata = imread_collection(Data_dir)\n",
    "\n",
    "imdata[0] #  to access images 0,1,....25330\n",
    "type(imdata)\n",
    "type(imdata[0])\n",
    "imdata[0].shape"
   ]
  },
  {
   "cell_type": "code",
   "execution_count": 24,
   "metadata": {},
   "outputs": [
    {
     "data": {
      "text/plain": [
       "(450, 600, 3)"
      ]
     },
     "execution_count": 24,
     "metadata": {},
     "output_type": "execute_result"
    }
   ],
   "source": [
    "imdata[2].shape"
   ]
  },
  {
   "cell_type": "code",
   "execution_count": 28,
   "metadata": {},
   "outputs": [
    {
     "data": {
      "text/plain": [
       "int"
      ]
     },
     "execution_count": 28,
     "metadata": {},
     "output_type": "execute_result"
    }
   ],
   "source": [
    "len(imdata)"
   ]
  },
  {
   "cell_type": "code",
   "execution_count": 33,
   "metadata": {},
   "outputs": [
    {
     "data": {
      "text/plain": [
       "(36, 48, 3)"
      ]
     },
     "execution_count": 33,
     "metadata": {},
     "output_type": "execute_result"
    }
   ],
   "source": [
    "im_array = np.empty([25331,36,48,3])\n",
    "im_array[0,:,:,:].shape"
   ]
  },
  {
   "cell_type": "code",
   "execution_count": 44,
   "metadata": {},
   "outputs": [
    {
     "name": "stdout",
     "output_type": "stream",
     "text": [
      "0\n",
      "1000\n",
      "2000\n",
      "3000\n",
      "4000\n",
      "5000\n",
      "6000\n",
      "7000\n",
      "8000\n",
      "9000\n",
      "10000\n",
      "11000\n",
      "12000\n",
      "13000\n",
      "14000\n",
      "15000\n",
      "16000\n",
      "17000\n",
      "18000\n",
      "19000\n",
      "20000\n",
      "21000\n",
      "22000\n",
      "23000\n",
      "24000\n",
      "25000\n"
     ]
    }
   ],
   "source": [
    "from skimage.transform import resize\n",
    "\n",
    "for i in range(25331):\n",
    "    img_resized = resize(imdata[i], output_shape= (36,48,3))\n",
    "    im_array[i,:,:,:] = img_resized\n",
    "    if i%1000 == 0:\n",
    "        print(i)\n"
   ]
  },
  {
   "cell_type": "code",
   "execution_count": 45,
   "metadata": {},
   "outputs": [],
   "source": [
    "# np.save(\"im_array.npy\", im_array)"
   ]
  },
  {
   "cell_type": "code",
   "execution_count": 46,
   "metadata": {},
   "outputs": [
    {
     "data": {
      "text/plain": [
       "<matplotlib.image.AxesImage at 0x2258a6cc640>"
      ]
     },
     "execution_count": 46,
     "metadata": {},
     "output_type": "execute_result"
    },
    {
     "data": {
      "image/png": "[encoded data removed]",
      "text/plain": [
       "<Figure size 640x480 with 1 Axes>"
      ]
     },
     "metadata": {},
     "output_type": "display_data"
    }
   ],
   "source": [
    "plt.imshow(im_array[0])"
   ]
  },
  {
   "cell_type": "markdown",
   "metadata": {},
   "source": [
    "Encoder"
   ]
  },
  {
   "cell_type": "markdown",
   "metadata": {},
   "source": [
    "0 to 866: class AK, so 867 belongs to class BCC"
   ]
  },
  {
   "cell_type": "code",
   "execution_count": 177,
   "metadata": {},
   "outputs": [
    {
     "data": {
      "text/plain": [
       "<matplotlib.image.AxesImage at 0x225e1b9f790>"
      ]
     },
     "execution_count": 177,
     "metadata": {},
     "output_type": "execute_result"
    },
    {
     "data": {
      "image/png": "[encoded data removed]",
      "text/plain": [
       "<Figure size 640x480 with 1 Axes>"
      ]
     },
     "metadata": {},
     "output_type": "display_data"
    }
   ],
   "source": [
    "plt.imshow(im_array[867]) # matches with first image of BCC in actual data folder"
   ]
  },
  {
   "cell_type": "markdown",
   "metadata": {},
   "source": [
    "867...4189: class BCC, so 4190 belongs to class BKL"
   ]
  },
  {
   "cell_type": "code",
   "execution_count": 178,
   "metadata": {},
   "outputs": [
    {
     "data": {
      "text/plain": [
       "<matplotlib.image.AxesImage at 0x225e5c693a0>"
      ]
     },
     "execution_count": 178,
     "metadata": {},
     "output_type": "execute_result"
    },
    {
     "data": {
      "image/png": "[encoded data removed]",
      "text/plain": [
       "<Figure size 640x480 with 1 Axes>"
      ]
     },
     "metadata": {},
     "output_type": "display_data"
    }
   ],
   "source": [
    "plt.imshow(im_array[4190]) # actually first image of BKL"
   ]
  },
  {
   "cell_type": "markdown",
   "metadata": {},
   "source": [
    "4190...6813 belong to BKL, so 6814 belongs to DF"
   ]
  },
  {
   "cell_type": "code",
   "execution_count": 179,
   "metadata": {},
   "outputs": [
    {
     "data": {
      "text/plain": [
       "<matplotlib.image.AxesImage at 0x225e5de8df0>"
      ]
     },
     "execution_count": 179,
     "metadata": {},
     "output_type": "execute_result"
    },
    {
     "data": {
      "image/png": "[encoded data removed]",
      "text/plain": [
       "<Figure size 640x480 with 1 Axes>"
      ]
     },
     "metadata": {},
     "output_type": "display_data"
    }
   ],
   "source": [
    "plt.imshow(im_array[6814]) # actually first image of DF"
   ]
  },
  {
   "cell_type": "markdown",
   "metadata": {},
   "source": [
    "6814... 7052 belong to DF. So  7053 belongs to MEL"
   ]
  },
  {
   "cell_type": "code",
   "execution_count": 181,
   "metadata": {},
   "outputs": [
    {
     "data": {
      "text/plain": [
       "<matplotlib.image.AxesImage at 0x225e5d73490>"
      ]
     },
     "execution_count": 181,
     "metadata": {},
     "output_type": "execute_result"
    },
    {
     "data": {
      "image/png": "[encoded data removed]",
      "text/plain": [
       "<Figure size 640x480 with 1 Axes>"
      ]
     },
     "metadata": {},
     "output_type": "display_data"
    }
   ],
   "source": [
    "plt.imshow(im_array[7053]) # actually first image of MEL"
   ]
  },
  {
   "cell_type": "markdown",
   "metadata": {},
   "source": [
    "7053.... 11,574 belongs to MEL. So 11,575 belongs to NV"
   ]
  },
  {
   "cell_type": "code",
   "execution_count": 183,
   "metadata": {},
   "outputs": [
    {
     "data": {
      "text/plain": [
       "<matplotlib.image.AxesImage at 0x225e5e2d730>"
      ]
     },
     "execution_count": 183,
     "metadata": {},
     "output_type": "execute_result"
    },
    {
     "data": {
      "image/png": "[encoded data removed]",
      "text/plain": [
       "<Figure size 640x480 with 1 Axes>"
      ]
     },
     "metadata": {},
     "output_type": "display_data"
    }
   ],
   "source": [
    "plt.imshow(im_array[11575]) # actually first image of NV"
   ]
  },
  {
   "cell_type": "markdown",
   "metadata": {},
   "source": [
    "11,575.... 24,449 belongsto NV. 24,450 belongs to SCC"
   ]
  },
  {
   "cell_type": "code",
   "execution_count": 185,
   "metadata": {},
   "outputs": [
    {
     "data": {
      "text/plain": [
       "<matplotlib.image.AxesImage at 0x225e600be20>"
      ]
     },
     "execution_count": 185,
     "metadata": {},
     "output_type": "execute_result"
    },
    {
     "data": {
      "image/png": "[encoded data removed]",
      "text/plain": [
       "<Figure size 640x480 with 1 Axes>"
      ]
     },
     "metadata": {},
     "output_type": "display_data"
    }
   ],
   "source": [
    "plt.imshow(im_array[24450]) # first image of SCC"
   ]
  },
  {
   "cell_type": "markdown",
   "metadata": {},
   "source": [
    "24,450... 25,077 belong to SCC, so 25,078 belongs to VASC"
   ]
  },
  {
   "cell_type": "code",
   "execution_count": 186,
   "metadata": {},
   "outputs": [
    {
     "data": {
      "text/plain": [
       "<matplotlib.image.AxesImage at 0x225e5ee4670>"
      ]
     },
     "execution_count": 186,
     "metadata": {},
     "output_type": "execute_result"
    },
    {
     "data": {
      "image/png": "[encoded data removed]",
      "text/plain": [
       "<Figure size 640x480 with 1 Axes>"
      ]
     },
     "metadata": {},
     "output_type": "display_data"
    }
   ],
   "source": [
    "plt.imshow(im_array[25078]) # first image of VASC"
   ]
  },
  {
   "cell_type": "code",
   "execution_count": 153,
   "metadata": {},
   "outputs": [],
   "source": [
    "input_img = Input(shape=(36, 48, 3))\n",
    "\n",
    "\n",
    "x = layers.Conv2D(16, (3, 3), activation='relu', padding='same')(input_img) # 36x48x16\n",
    "x = layers.MaxPooling2D((2, 2), padding='same')(x)\n",
    "x = layers.Conv2D(8, (3, 3), activation='relu', padding='same')(x)\n",
    "x = layers.MaxPooling2D((2, 2), padding='same')(x)\n",
    "x = layers.Conv2D(4, (3, 3), activation='relu', padding='same')(x)\n",
    "encoded = layers.MaxPooling2D((3, 3), padding='valid')(x)"
   ]
  },
  {
   "cell_type": "code",
   "execution_count": 154,
   "metadata": {},
   "outputs": [
    {
     "data": {
      "text/plain": [
       "<KerasTensor: shape=(None, 3, 4, 4) dtype=float32 (created by layer 'max_pooling2d_53')>"
      ]
     },
     "execution_count": 154,
     "metadata": {},
     "output_type": "execute_result"
    }
   ],
   "source": [
    "encoded"
   ]
  },
  {
   "cell_type": "markdown",
   "metadata": {},
   "source": [
    "reduced features 96 features\n",
    "(96 PCs captured aprrox 95% variation in data)"
   ]
  },
  {
   "cell_type": "markdown",
   "metadata": {},
   "source": [
    "Decoder"
   ]
  },
  {
   "cell_type": "markdown",
   "metadata": {},
   "source": [
    "UpSampling(size = (1,2)) then rows and columns of the data are repeated by size[0] = 1 and size[1] = 2 respectively. So num. of rows stay the same but columns get doubled."
   ]
  },
  {
   "cell_type": "code",
   "execution_count": 155,
   "metadata": {},
   "outputs": [],
   "source": [
    "x = layers.Conv2D(4, (3, 3), activation='relu', padding='same')(encoded)\n",
    "x = layers.UpSampling2D((3, 3))(x)\n",
    "x = layers.Conv2D(8, (3, 3), activation='relu', padding='same')(x)\n",
    "x = layers.UpSampling2D((2, 2))(x)\n",
    "x = layers.Conv2D(16, (3, 3), activation='relu', padding='same')(x)\n",
    "x = layers.UpSampling2D((2, 2))(x)\n",
    "\n",
    "decoded = layers.Conv2D(3, (3, 3), activation='sigmoid', padding='same')(x)"
   ]
  },
  {
   "cell_type": "code",
   "execution_count": 156,
   "metadata": {},
   "outputs": [
    {
     "data": {
      "text/plain": [
       "<KerasTensor: shape=(None, 36, 48, 3) dtype=float32 (created by layer 'conv2d_164')>"
      ]
     },
     "execution_count": 156,
     "metadata": {},
     "output_type": "execute_result"
    }
   ],
   "source": [
    "decoded"
   ]
  },
  {
   "cell_type": "code",
   "execution_count": 157,
   "metadata": {},
   "outputs": [],
   "source": [
    "autoencoder = Model(input_img, decoded)\n",
    "autoencoder.compile(optimizer='adam', loss='binary_crossentropy')"
   ]
  },
  {
   "cell_type": "code",
   "execution_count": 158,
   "metadata": {},
   "outputs": [
    {
     "name": "stdout",
     "output_type": "stream",
     "text": [
      "Model: \"model_5\"\n",
      "_________________________________________________________________\n",
      " Layer (type)                Output Shape              Param #   \n",
      "=================================================================\n",
      " input_22 (InputLayer)       [(None, 36, 48, 3)]       0         \n",
      "                                                                 \n",
      " conv2d_158 (Conv2D)         (None, 36, 48, 16)        448       \n",
      "                                                                 \n",
      " max_pooling2d_51 (MaxPoolin  (None, 18, 24, 16)       0         \n",
      " g2D)                                                            \n",
      "                                                                 \n",
      " conv2d_159 (Conv2D)         (None, 18, 24, 8)         1160      \n",
      "                                                                 \n",
      " max_pooling2d_52 (MaxPoolin  (None, 9, 12, 8)         0         \n",
      " g2D)                                                            \n",
      "                                                                 \n",
      " conv2d_160 (Conv2D)         (None, 9, 12, 4)          292       \n",
      "                                                                 \n",
      " max_pooling2d_53 (MaxPoolin  (None, 3, 4, 4)          0         \n",
      " g2D)                                                            \n",
      "                                                                 \n",
      " conv2d_161 (Conv2D)         (None, 3, 4, 4)           148       \n",
      "                                                                 \n",
      " up_sampling2d_81 (UpSamplin  (None, 9, 12, 4)         0         \n",
      " g2D)                                                            \n",
      "                                                                 \n",
      " conv2d_162 (Conv2D)         (None, 9, 12, 8)          296       \n",
      "                                                                 \n",
      " up_sampling2d_82 (UpSamplin  (None, 18, 24, 8)        0         \n",
      " g2D)                                                            \n",
      "                                                                 \n",
      " conv2d_163 (Conv2D)         (None, 18, 24, 16)        1168      \n",
      "                                                                 \n",
      " up_sampling2d_83 (UpSamplin  (None, 36, 48, 16)       0         \n",
      " g2D)                                                            \n",
      "                                                                 \n",
      " conv2d_164 (Conv2D)         (None, 36, 48, 3)         435       \n",
      "                                                                 \n",
      "=================================================================\n",
      "Total params: 3,947\n",
      "Trainable params: 3,947\n",
      "Non-trainable params: 0\n",
      "_________________________________________________________________\n"
     ]
    }
   ],
   "source": [
    "autoencoder.summary()"
   ]
  },
  {
   "cell_type": "markdown",
   "metadata": {},
   "source": [
    "Split into train and test datasets"
   ]
  },
  {
   "cell_type": "code",
   "execution_count": 192,
   "metadata": {},
   "outputs": [
    {
     "data": {
      "text/plain": [
       "25331"
      ]
     },
     "execution_count": 192,
     "metadata": {},
     "output_type": "execute_result"
    }
   ],
   "source": [
    "labels = ['AK'] * 867 + ['BCC'] * 3323 + ['BKL']*2624 + ['DF']*239 + ['MEL']*4522 + ['NV']*12875 + ['SCC']*628 + ['VASC']*253\n",
    "len(labels)"
   ]
  },
  {
   "cell_type": "code",
   "execution_count": 193,
   "metadata": {},
   "outputs": [],
   "source": [
    "from sklearn.model_selection import train_test_split\n",
    "\n",
    "train, test, label_train, label_test  = train_test_split(im_array, labels, test_size=0.25, random_state=42)\n"
   ]
  },
  {
   "cell_type": "code",
   "execution_count": 196,
   "metadata": {},
   "outputs": [
    {
     "data": {
      "text/plain": [
       "18998"
      ]
     },
     "execution_count": 196,
     "metadata": {},
     "output_type": "execute_result"
    }
   ],
   "source": [
    "len(label_test)\n",
    "len(label_train)"
   ]
  },
  {
   "cell_type": "code",
   "execution_count": 197,
   "metadata": {},
   "outputs": [],
   "source": [
    "np.save(\"label_train.npy\", label_train)\n",
    "np.save(\"label_test.npy\", label_test)"
   ]
  },
  {
   "cell_type": "code",
   "execution_count": 198,
   "metadata": {},
   "outputs": [
    {
     "name": "stdout",
     "output_type": "stream",
     "text": [
      "Epoch 1/10\n",
      "38/38 [==============================] - 21s 538ms/step - loss: 0.5887 - val_loss: 0.5878\n",
      "Epoch 2/10\n",
      "38/38 [==============================] - 22s 573ms/step - loss: 0.5885 - val_loss: 0.5876\n",
      "Epoch 3/10\n",
      "38/38 [==============================] - 17s 443ms/step - loss: 0.5879 - val_loss: 0.5870\n",
      "Epoch 4/10\n",
      "38/38 [==============================] - 18s 483ms/step - loss: 0.5876 - val_loss: 0.5867\n",
      "Epoch 5/10\n",
      "38/38 [==============================] - 15s 405ms/step - loss: 0.5874 - val_loss: 0.5862\n",
      "Epoch 6/10\n",
      "38/38 [==============================] - 18s 484ms/step - loss: 0.5868 - val_loss: 0.5863\n",
      "Epoch 7/10\n",
      "38/38 [==============================] - 17s 436ms/step - loss: 0.5867 - val_loss: 0.5856\n",
      "Epoch 8/10\n",
      "38/38 [==============================] - 18s 472ms/step - loss: 0.5862 - val_loss: 0.5857\n",
      "Epoch 9/10\n",
      "38/38 [==============================] - 18s 480ms/step - loss: 0.5859 - val_loss: 0.5851\n",
      "Epoch 10/10\n",
      "38/38 [==============================] - 20s 505ms/step - loss: 0.5857 - val_loss: 0.5848\n"
     ]
    },
    {
     "data": {
      "text/plain": [
       "<keras.callbacks.History at 0x225cd4477c0>"
      ]
     },
     "execution_count": 198,
     "metadata": {},
     "output_type": "execute_result"
    }
   ],
   "source": [
    "autoencoder.fit(train, train, epochs=10, batch_size=512, shuffle=True, validation_data=(test,test))"
   ]
  },
  {
   "cell_type": "code",
   "execution_count": 199,
   "metadata": {},
   "outputs": [
    {
     "name": "stdout",
     "output_type": "stream",
     "text": [
      "198/198 [==============================] - 1s 6ms/step\n"
     ]
    }
   ],
   "source": [
    "decoded_imgs = autoencoder.predict(test)"
   ]
  },
  {
   "cell_type": "code",
   "execution_count": 164,
   "metadata": {},
   "outputs": [
    {
     "data": {
      "text/plain": [
       "<matplotlib.image.AxesImage at 0x225e1c4f460>"
      ]
     },
     "execution_count": 164,
     "metadata": {},
     "output_type": "execute_result"
    },
    {
     "data": {
      "image/png": "[encoded data removed]",
      "text/plain": [
       "<Figure size 640x480 with 1 Axes>"
      ]
     },
     "metadata": {},
     "output_type": "display_data"
    }
   ],
   "source": [
    "plt.imshow(test[2])"
   ]
  },
  {
   "cell_type": "code",
   "execution_count": 165,
   "metadata": {},
   "outputs": [
    {
     "data": {
      "text/plain": [
       "<matplotlib.image.AxesImage at 0x225e1b33be0>"
      ]
     },
     "execution_count": 165,
     "metadata": {},
     "output_type": "execute_result"
    },
    {
     "data": {
      "image/png": "[encoded data removed]",
      "text/plain": [
       "<Figure size 640x480 with 1 Axes>"
      ]
     },
     "metadata": {},
     "output_type": "display_data"
    }
   ],
   "source": [
    "plt.imshow(decoded_imgs[2])"
   ]
  },
  {
   "cell_type": "markdown",
   "metadata": {},
   "source": [
    "\"encoder\" object below gives reduced features. "
   ]
  },
  {
   "cell_type": "markdown",
   "metadata": {},
   "source": [
    "Encode the train set images"
   ]
  },
  {
   "cell_type": "code",
   "execution_count": 200,
   "metadata": {},
   "outputs": [
    {
     "data": {
      "text/plain": [
       "TensorShape([18998, 3, 4, 4])"
      ]
     },
     "execution_count": 200,
     "metadata": {},
     "output_type": "execute_result"
    }
   ],
   "source": [
    "encoder = Model(input_img, encoded)\n",
    "encoded_train = encoder(train)\n",
    "\n",
    "encoded_train.shape # encoded features"
   ]
  },
  {
   "cell_type": "code",
   "execution_count": 201,
   "metadata": {},
   "outputs": [
    {
     "data": {
      "text/plain": [
       "(18998, 3, 4, 4)"
      ]
     },
     "execution_count": 201,
     "metadata": {},
     "output_type": "execute_result"
    }
   ],
   "source": [
    "encoded_train_array = np.asarray(encoded_train)\n",
    "encoded_train_array.shape"
   ]
  },
  {
   "cell_type": "code",
   "execution_count": 202,
   "metadata": {},
   "outputs": [],
   "source": [
    "np.save(\"encoded_train_new.npy\", encoded_train_array )"
   ]
  },
  {
   "cell_type": "markdown",
   "metadata": {},
   "source": [
    "Encoding the test set as well"
   ]
  },
  {
   "cell_type": "code",
   "execution_count": 203,
   "metadata": {},
   "outputs": [
    {
     "data": {
      "text/plain": [
       "(6333, 3, 4, 4)"
      ]
     },
     "execution_count": 203,
     "metadata": {},
     "output_type": "execute_result"
    }
   ],
   "source": [
    "encoded_test = encoder(test)\n",
    "encoded_test_array = np.asarray(encoded_test)\n",
    "encoded_test_array.shape"
   ]
  },
  {
   "cell_type": "code",
   "execution_count": 204,
   "metadata": {},
   "outputs": [],
   "source": [
    "np.save(\"encoded_test_new.npy\", encoded_test_array )"
   ]
  }
 ],
 "metadata": {
  "kernelspec": {
   "display_name": "Python 3.9.15 ('myenv')",
   "language": "python",
   "name": "python3"
  },
  "language_info": {
   "codemirror_mode": {
    "name": "ipython",
    "version": 3
   },
   "file_extension": ".py",
   "mimetype": "text/x-python",
   "name": "python",
   "nbconvert_exporter": "python",
   "pygments_lexer": "ipython3",
   "version": "3.9.15 (main, Nov 24 2022, 14:39:17) [MSC v.1916 64 bit (AMD64)]"
  },
  "orig_nbformat": 4,
  "vscode": {
   "interpreter": {
    "hash": "50d8fb942e058ba59e44f174bc1742a5a674676760679353479a427e4b1522e2"
   }
  }
 },
 "nbformat": 4,
 "nbformat_minor": 2
}
